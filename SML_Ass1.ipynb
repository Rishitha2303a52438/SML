{
  "nbformat": 4,
  "nbformat_minor": 0,
  "metadata": {
    "colab": {
      "provenance": []
    },
    "kernelspec": {
      "name": "python3",
      "display_name": "Python 3"
    },
    "language_info": {
      "name": "python"
    }
  },
  "cells": [
    {
      "cell_type": "code",
      "execution_count": null,
      "metadata": {
        "id": "oNYVEuBILSZD"
      },
      "outputs": [],
      "source": [
        "# Question1\n",
        "import numpy as np\n",
        "import matplotlib.pyplot as plt"
      ]
    },
    {
      "cell_type": "code",
      "source": [
        "x=np.array([2.3, 2.5, 3.6, 2.8, 3.1, 2.9, 3.2, 2.7, 2.8, 3.0])"
      ],
      "metadata": {
        "id": "TW61Zle4LoO_"
      },
      "execution_count": null,
      "outputs": []
    },
    {
      "cell_type": "code",
      "source": [
        "\n",
        "plt.hist(x,bins=5)"
      ],
      "metadata": {
        "colab": {
          "base_uri": "https://localhost:8080/",
          "height": 482
        },
        "id": "JtPdQGgsLvCB",
        "outputId": "eb73b55c-e903-436c-8302-7f878b742ab2"
      },
      "execution_count": null,
      "outputs": [
        {
          "output_type": "execute_result",
          "data": {
            "text/plain": [
              "(array([2., 3., 2., 2., 1.]),\n",
              " array([2.3 , 2.56, 2.82, 3.08, 3.34, 3.6 ]),\n",
              " <BarContainer object of 5 artists>)"
            ]
          },
          "metadata": {},
          "execution_count": 3
        },
        {
          "output_type": "display_data",
          "data": {
            "text/plain": [
              "<Figure size 640x480 with 1 Axes>"
            ],
            "image/png": "[encoded data removed]"
          },
          "metadata": {}
        }
      ]
    },
    {
      "cell_type": "code",
      "source": [
        "# Question2\n",
        "# Find Mean, Median, Mode , Variance , Standard deviation , Range , Interquartile Range (IQR),  Skewness ,Kurtosis of x and y\n"
      ],
      "metadata": {
        "id": "3bzsvea3Lx5E"
      },
      "execution_count": null,
      "outputs": []
    },
    {
      "cell_type": "code",
      "source": [
        "import numpy as np\n",
        "from scipy import stats as s\n",
        "import matplotlib.pyplot as plt\n"
      ],
      "metadata": {
        "id": "L_pDu73yL6DY"
      },
      "execution_count": null,
      "outputs": []
    },
    {
      "cell_type": "code",
      "source": [
        "x=[4, 5, 8, 2, 4, 2, 5]\n",
        "y=[5, 6, 3, 8, 3, 7, 8]"
      ],
      "metadata": {
        "id": "cm2TEAEaL9kC"
      },
      "execution_count": null,
      "outputs": []
    },
    {
      "cell_type": "code",
      "source": [
        "print(\"Mean of x is\",np.mean(x))\n",
        "print(\"Mean of y is\",np.mean(y))"
      ],
      "metadata": {
        "colab": {
          "base_uri": "https://localhost:8080/"
        },
        "id": "8fmApFR1MAl4",
        "outputId": "185cce29-213a-4eca-9869-ff5b52596d7d"
      },
      "execution_count": null,
      "outputs": [
        {
          "output_type": "stream",
          "name": "stdout",
          "text": [
            "Mean of x is 4.285714285714286\n",
            "Mean of y is 5.714285714285714\n"
          ]
        }
      ]
    },
    {
      "cell_type": "code",
      "source": [
        "print(\"Median of x is\",np.median(x))\n",
        "print(\"Median of y is\",np.median(y))"
      ],
      "metadata": {
        "colab": {
          "base_uri": "https://localhost:8080/"
        },
        "id": "zGPOZ6X5MFXo",
        "outputId": "a199db18-d3f0-4fd8-bb17-32bec38d17ca"
      },
      "execution_count": null,
      "outputs": [
        {
          "output_type": "stream",
          "name": "stdout",
          "text": [
            "Median of x is 4.0\n",
            "Median of y is 6.0\n"
          ]
        }
      ]
    },
    {
      "cell_type": "code",
      "source": [
        "print(\"Mode of x is\",s.mode(x))\n",
        "print(\"Mode of y is\",s.mode(y))"
      ],
      "metadata": {
        "id": "lZL5dNr3MJ2e",
        "outputId": "d3eb05f1-4b64-4df8-9fc5-4934a083c5ad",
        "colab": {
          "base_uri": "https://localhost:8080/"
        }
      },
      "execution_count": null,
      "outputs": [
        {
          "output_type": "stream",
          "name": "stdout",
          "text": [
            "Mode of x is ModeResult(mode=2, count=2)\n",
            "Mode of y is ModeResult(mode=3, count=2)\n"
          ]
        }
      ]
    },
    {
      "cell_type": "code",
      "source": [
        "print(\"Variance of x is\",np.var(x))\n",
        "print(\"Variance of y is\",np.var(y))"
      ],
      "metadata": {
        "id": "bL2cXO8fMNwj",
        "colab": {
          "base_uri": "https://localhost:8080/"
        },
        "outputId": "06415670-1f1a-4216-e0f1-880e705ffb8b"
      },
      "execution_count": 11,
      "outputs": [
        {
          "output_type": "stream",
          "name": "stdout",
          "text": [
            "Variance of x is 3.6326530612244894\n",
            "Variance of y is 3.918367346938776\n"
          ]
        }
      ]
    },
    {
      "cell_type": "code",
      "source": [
        "print(\"Standard deviation of x is\",np.std(x))\n",
        "print(\"Standard deviation of y is\",np.std(y))"
      ],
      "metadata": {
        "colab": {
          "base_uri": "https://localhost:8080/"
        },
        "id": "xRsI6htoOZBH",
        "outputId": "712e3160-4c84-4591-b496-ac8750a0934f"
      },
      "execution_count": 12,
      "outputs": [
        {
          "output_type": "stream",
          "name": "stdout",
          "text": [
            "Standard deviation of x is 1.9059520091609048\n",
            "Standard deviation of y is 1.979486637221574\n"
          ]
        }
      ]
    },
    {
      "cell_type": "code",
      "source": [
        "print(\"Range of x is\",max(x)-min(x))\n",
        "print(\"Range of y is\",max(y)-min(y))"
      ],
      "metadata": {
        "colab": {
          "base_uri": "https://localhost:8080/"
        },
        "id": "SelJ5hc4Octl",
        "outputId": "b823d339-e72e-4055-8217-da172b5b1709"
      },
      "execution_count": 13,
      "outputs": [
        {
          "output_type": "stream",
          "name": "stdout",
          "text": [
            "Range of x is 6\n",
            "Range of y is 5\n"
          ]
        }
      ]
    },
    {
      "cell_type": "code",
      "source": [
        "print(\"Interquartile range of x is\",np.percentile(x,75)-np.percentile(x,25))\n",
        "print(\"Interquartile range of y is\",np.percentile(y,75)-np.percentile(y,25))"
      ],
      "metadata": {
        "colab": {
          "base_uri": "https://localhost:8080/"
        },
        "id": "hrgvq6qvOgBR",
        "outputId": "7c7b84b9-ecdc-48a1-d261-aab1212a9847"
      },
      "execution_count": 14,
      "outputs": [
        {
          "output_type": "stream",
          "name": "stdout",
          "text": [
            "Interquartile range of x is 2.0\n",
            "Interquartile range of y is 3.5\n"
          ]
        }
      ]
    },
    {
      "cell_type": "code",
      "source": [
        "import numpy as np\n",
        "\n",
        "\n",
        "x = [4, 5, 8, 2, 4, 2, 5]\n",
        "y = [5, 6, 3, 8, 3, 7, 8]\n",
        "\n",
        "n_x = len(x)\n",
        "mean_x = np.mean(x)\n",
        "std_dev_x = np.sqrt(np.sum((np.array(x) - mean_x) ** 2) / (n_x - 1))\n",
        "skewness_x = (n_x / ((n_x - 1) * (n_x - 2))) * np.sum(((np.array(x) - mean_x) / std_dev_x) ** 3)\n",
        "\n",
        "\n",
        "n_y = len(y)\n",
        "mean_y = np.mean(y)\n",
        "std_dev_y = np.sqrt(np.sum((np.array(y) - mean_y) ** 2) / (n_y - 1))\n",
        "skewness_y = (n_y / ((n_y - 1) * (n_y - 2))) * np.sum(((np.array(y) - mean_y) / std_dev_y) ** 3)\n",
        "\n",
        "print(\"Skewness of x:\", skewness_x)\n",
        "print(\"Skewness of y:\", skewness_y)\n"
      ],
      "metadata": {
        "colab": {
          "base_uri": "https://localhost:8080/"
        },
        "id": "SJdQ_uKsOjeT",
        "outputId": "aab22483-b330-4350-89ed-e5b3ef49def5"
      },
      "execution_count": 15,
      "outputs": [
        {
          "output_type": "stream",
          "name": "stdout",
          "text": [
            "Skewness of x: 0.749913842326791\n",
            "Skewness of y: -0.34201087050980616\n"
          ]
        }
      ]
    },
    {
      "cell_type": "code",
      "source": [
        "import numpy as np\n",
        "\n",
        "x = [4, 5, 8, 2, 4, 2, 5]\n",
        "y = [5, 6, 3, 8, 3, 7, 8]\n",
        "\n",
        "\n",
        "n_x = len(x)\n",
        "mean_x = np.mean(x)\n",
        "std_dev_x = np.sqrt(np.sum((np.array(x) - mean_x) ** 2) / (n_x - 1))\n",
        "kurtosis_x = (n_x * (n_x + 1) * np.sum(((np.array(x) - mean_x) / std_dev_x) ** 4) /\n",
        "              ((n_x - 1) * (n_x - 2) * (n_x - 3))) - (3 * (n_x - 1)**2 / ((n_x - 2) * (n_x - 3)))\n",
        "\n",
        "\n",
        "n_y = len(y)\n",
        "mean_y = np.mean(y)\n",
        "std_dev_y = np.sqrt(np.sum((np.array(y) - mean_y) ** 2) / (n_y - 1))\n",
        "kurtosis_y = (n_y * (n_y + 1) * np.sum(((np.array(y) - mean_y) / std_dev_y) ** 4) /\n",
        "              ((n_y - 1) * (n_y - 2) * (n_y - 3))) - (3 * (n_y - 1)**2 / ((n_y - 2) * (n_y - 3)))\n",
        "\n",
        "print(\"Kurtosis of x:\", kurtosis_x)\n",
        "print(\"Kurtosis of y:\", kurtosis_y)"
      ],
      "metadata": {
        "colab": {
          "base_uri": "https://localhost:8080/"
        },
        "id": "FhbbZPayOnnn",
        "outputId": "e270f0fc-c53b-4189-83d3-cf9a9b1383a0"
      },
      "execution_count": 16,
      "outputs": [
        {
          "output_type": "stream",
          "name": "stdout",
          "text": [
            "Kurtosis of x: 0.9772250978411803\n",
            "Kurtosis of y: -1.6898437500000005\n"
          ]
        }
      ]
    },
    {
      "cell_type": "code",
      "source": [
        "# question 3\n",
        "#From the above data Find Mean, Median, Mode, Variance, Standard deviation, Range , Interquartile Range (IQR),  Skewness ,Kurtosis of each feature.\n",
        ""
      ],
      "metadata": {
        "id": "k0SFzldnOsBK"
      },
      "execution_count": 17,
      "outputs": []
    },
    {
      "cell_type": "code",
      "source": [
        "import pandas as pd\n",
        "import numpy as np\n",
        "from scipy import stats as s\n",
        "import matplotlib.pyplot as plt"
      ],
      "metadata": {
        "id": "P_aTlq6IOyN1"
      },
      "execution_count": 18,
      "outputs": []
    },
    {
      "cell_type": "code",
      "source": [
        "d=pd.read_csv('/content/sample_data/california_housing_train.csv')\n",
        "d"
      ],
      "metadata": {
        "colab": {
          "base_uri": "https://localhost:8080/",
          "height": 423
        },
        "id": "iBzZ__B_O1ol",
        "outputId": "0fb67b1f-1c09-4e4d-87e9-b97deb9a6c8b"
      },
      "execution_count": 19,
      "outputs": [
        {
          "output_type": "execute_result",
          "data": {
            "text/plain": [
              "       longitude  latitude  housing_median_age  total_rooms  total_bedrooms  \\\n",
              "0        -114.31     34.19                15.0       5612.0          1283.0   \n",
              "1        -114.47     34.40                19.0       7650.0          1901.0   \n",
              "2        -114.56     33.69                17.0        720.0           174.0   \n",
              "3        -114.57     33.64                14.0       1501.0           337.0   \n",
              "4        -114.57     33.57                20.0       1454.0           326.0   \n",
              "...          ...       ...                 ...          ...             ...   \n",
              "16995    -124.26     40.58                52.0       2217.0           394.0   \n",
              "16996    -124.27     40.69                36.0       2349.0           528.0   \n",
              "16997    -124.30     41.84                17.0       2677.0           531.0   \n",
              "16998    -124.30     41.80                19.0       2672.0           552.0   \n",
              "16999    -124.35     40.54                52.0       1820.0           300.0   \n",
              "\n",
              "       population  households  median_income  median_house_value  \n",
              "0          1015.0       472.0         1.4936             66900.0  \n",
              "1          1129.0       463.0         1.8200             80100.0  \n",
              "2           333.0       117.0         1.6509             85700.0  \n",
              "3           515.0       226.0         3.1917             73400.0  \n",
              "4           624.0       262.0         1.9250             65500.0  \n",
              "...           ...         ...            ...                 ...  \n",
              "16995       907.0       369.0         2.3571            111400.0  \n",
              "16996      1194.0       465.0         2.5179             79000.0  \n",
              "16997      1244.0       456.0         3.0313            103600.0  \n",
              "16998      1298.0       478.0         1.9797             85800.0  \n",
              "16999       806.0       270.0         3.0147             94600.0  \n",
              "\n",
              "[17000 rows x 9 columns]"
            ],
            "text/html": [
              "\n",
              "  <div id=\"df-760a9417-a092-4ded-b121-964882852191\" class=\"colab-df-container\">\n",
              "    <div>\n",
              "<style scoped>\n",
              "    .dataframe tbody tr th:only-of-type {\n",
              "        vertical-align: middle;\n",
              "    }\n",
              "\n",
              "    .dataframe tbody tr th {\n",
              "        vertical-align: top;\n",
              "    }\n",
              "\n",
              "    .dataframe thead th {\n",
              "        text-align: right;\n",
              "    }\n",
              "</style>\n",
              "<table border=\"1\" class=\"dataframe\">\n",
              "  <thead>\n",
              "    <tr style=\"text-align: right;\">\n",
              "      <th></th>\n",
              "      <th>longitude</th>\n",
              "      <th>latitude</th>\n",
              "      <th>housing_median_age</th>\n",
              "      <th>total_rooms</th>\n",
              "      <th>total_bedrooms</th>\n",
              "      <th>population</th>\n",
              "      <th>households</th>\n",
              "      <th>median_income</th>\n",
              "      <th>median_house_value</th>\n",
              "    </tr>\n",
              "  </thead>\n",
              "  <tbody>\n",
              "    <tr>\n",
              "      <th>0</th>\n",
              "      <td>-114.31</td>\n",
              "      <td>34.19</td>\n",
              "      <td>15.0</td>\n",
              "      <td>5612.0</td>\n",
              "      <td>1283.0</td>\n",
              "      <td>1015.0</td>\n",
              "      <td>472.0</td>\n",
              "      <td>1.4936</td>\n",
              "      <td>66900.0</td>\n",
              "    </tr>\n",
              "    <tr>\n",
              "      <th>1</th>\n",
              "      <td>-114.47</td>\n",
              "      <td>34.40</td>\n",
              "      <td>19.0</td>\n",
              "      <td>7650.0</td>\n",
              "      <td>1901.0</td>\n",
              "      <td>1129.0</td>\n",
              "      <td>463.0</td>\n",
              "      <td>1.8200</td>\n",
              "      <td>80100.0</td>\n",
              "    </tr>\n",
              "    <tr>\n",
              "      <th>2</th>\n",
              "      <td>-114.56</td>\n",
              "      <td>33.69</td>\n",
              "      <td>17.0</td>\n",
              "      <td>720.0</td>\n",
              "      <td>174.0</td>\n",
              "      <td>333.0</td>\n",
              "      <td>117.0</td>\n",
              "      <td>1.6509</td>\n",
              "      <td>85700.0</td>\n",
              "    </tr>\n",
              "    <tr>\n",
              "      <th>3</th>\n",
              "      <td>-114.57</td>\n",
              "      <td>33.64</td>\n",
              "      <td>14.0</td>\n",
              "      <td>1501.0</td>\n",
              "      <td>337.0</td>\n",
              "      <td>515.0</td>\n",
              "      <td>226.0</td>\n",
              "      <td>3.1917</td>\n",
              "      <td>73400.0</td>\n",
              "    </tr>\n",
              "    <tr>\n",
              "      <th>4</th>\n",
              "      <td>-114.57</td>\n",
              "      <td>33.57</td>\n",
              "      <td>20.0</td>\n",
              "      <td>1454.0</td>\n",
              "      <td>326.0</td>\n",
              "      <td>624.0</td>\n",
              "      <td>262.0</td>\n",
              "      <td>1.9250</td>\n",
              "      <td>65500.0</td>\n",
              "    </tr>\n",
              "    <tr>\n",
              "      <th>...</th>\n",
              "      <td>...</td>\n",
              "      <td>...</td>\n",
              "      <td>...</td>\n",
              "      <td>...</td>\n",
              "      <td>...</td>\n",
              "      <td>...</td>\n",
              "      <td>...</td>\n",
              "      <td>...</td>\n",
              "      <td>...</td>\n",
              "    </tr>\n",
              "    <tr>\n",
              "      <th>16995</th>\n",
              "      <td>-124.26</td>\n",
              "      <td>40.58</td>\n",
              "      <td>52.0</td>\n",
              "      <td>2217.0</td>\n",
              "      <td>394.0</td>\n",
              "      <td>907.0</td>\n",
              "      <td>369.0</td>\n",
              "      <td>2.3571</td>\n",
              "      <td>111400.0</td>\n",
              "    </tr>\n",
              "    <tr>\n",
              "      <th>16996</th>\n",
              "      <td>-124.27</td>\n",
              "      <td>40.69</td>\n",
              "      <td>36.0</td>\n",
              "      <td>2349.0</td>\n",
              "      <td>528.0</td>\n",
              "      <td>1194.0</td>\n",
              "      <td>465.0</td>\n",
              "      <td>2.5179</td>\n",
              "      <td>79000.0</td>\n",
              "    </tr>\n",
              "    <tr>\n",
              "      <th>16997</th>\n",
              "      <td>-124.30</td>\n",
              "      <td>41.84</td>\n",
              "      <td>17.0</td>\n",
              "      <td>2677.0</td>\n",
              "      <td>531.0</td>\n",
              "      <td>1244.0</td>\n",
              "      <td>456.0</td>\n",
              "      <td>3.0313</td>\n",
              "      <td>103600.0</td>\n",
              "    </tr>\n",
              "    <tr>\n",
              "      <th>16998</th>\n",
              "      <td>-124.30</td>\n",
              "      <td>41.80</td>\n",
              "      <td>19.0</td>\n",
              "      <td>2672.0</td>\n",
              "      <td>552.0</td>\n",
              "      <td>1298.0</td>\n",
              "      <td>478.0</td>\n",
              "      <td>1.9797</td>\n",
              "      <td>85800.0</td>\n",
              "    </tr>\n",
              "    <tr>\n",
              "      <th>16999</th>\n",
              "      <td>-124.35</td>\n",
              "      <td>40.54</td>\n",
              "      <td>52.0</td>\n",
              "      <td>1820.0</td>\n",
              "      <td>300.0</td>\n",
              "      <td>806.0</td>\n",
              "      <td>270.0</td>\n",
              "      <td>3.0147</td>\n",
              "      <td>94600.0</td>\n",
              "    </tr>\n",
              "  </tbody>\n",
              "</table>\n",
              "<p>17000 rows × 9 columns</p>\n",
              "</div>\n",
              "    <div class=\"colab-df-buttons\">\n",
              "\n",
              "  <div class=\"colab-df-container\">\n",
              "    <button class=\"colab-df-convert\" onclick=\"convertToInteractive('df-760a9417-a092-4ded-b121-964882852191')\"\n",
              "            title=\"Convert this dataframe to an interactive table.\"\n",
              "            style=\"display:none;\">\n",
              "\n",
              "  <svg xmlns=\"http://www.w3.org/2000/svg\" height=\"24px\" viewBox=\"0 -960 960 960\">\n",
              "    <path d=\"M120-120v-720h720v720H120Zm60-500h600v-160H180v160Zm220 220h160v-160H400v160Zm0 220h160v-160H400v160ZM180-400h160v-160H180v160Zm440 0h160v-160H620v160ZM180-180h160v-160H180v160Zm440 0h160v-160H620v160Z\"/>\n",
              "  </svg>\n",
              "    </button>\n",
              "\n",
              "  <style>\n",
              "    .colab-df-container {\n",
              "      display:flex;\n",
              "      gap: 12px;\n",
              "    }\n",
              "\n",
              "    .colab-df-convert {\n",
              "      background-color: #E8F0FE;\n",
              "      border: none;\n",
              "      border-radius: 50%;\n",
              "      cursor: pointer;\n",
              "      display: none;\n",
              "      fill: #1967D2;\n",
              "      height: 32px;\n",
              "      padding: 0 0 0 0;\n",
              "      width: 32px;\n",
              "    }\n",
              "\n",
              "    .colab-df-convert:hover {\n",
              "      background-color: #E2EBFA;\n",
              "      box-shadow: 0px 1px 2px rgba(60, 64, 67, 0.3), 0px 1px 3px 1px rgba(60, 64, 67, 0.15);\n",
              "      fill: #174EA6;\n",
              "    }\n",
              "\n",
              "    .colab-df-buttons div {\n",
              "      margin-bottom: 4px;\n",
              "    }\n",
              "\n",
              "    [theme=dark] .colab-df-convert {\n",
              "      background-color: #3B4455;\n",
              "      fill: #D2E3FC;\n",
              "    }\n",
              "\n",
              "    [theme=dark] .colab-df-convert:hover {\n",
              "      background-color: #434B5C;\n",
              "      box-shadow: 0px 1px 3px 1px rgba(0, 0, 0, 0.15);\n",
              "      filter: drop-shadow(0px 1px 2px rgba(0, 0, 0, 0.3));\n",
              "      fill: #FFFFFF;\n",
              "    }\n",
              "  </style>\n",
              "\n",
              "    <script>\n",
              "      const buttonEl =\n",
              "        document.querySelector('#df-760a9417-a092-4ded-b121-964882852191 button.colab-df-convert');\n",
              "      buttonEl.style.display =\n",
              "        google.colab.kernel.accessAllowed ? 'block' : 'none';\n",
              "\n",
              "      async function convertToInteractive(key) {\n",
              "        const element = document.querySelector('#df-760a9417-a092-4ded-b121-964882852191');\n",
              "        const dataTable =\n",
              "          await google.colab.kernel.invokeFunction('convertToInteractive',\n",
              "                                                    [key], {});\n",
              "        if (!dataTable) return;\n",
              "\n",
              "        const docLinkHtml = 'Like what you see? Visit the ' +\n",
              "          '<a target=\"_blank\" href=https://colab.research.google.com/notebooks/data_table.ipynb>data table notebook</a>'\n",
              "          + ' to learn more about interactive tables.';\n",
              "        element.innerHTML = '';\n",
              "        dataTable['output_type'] = 'display_data';\n",
              "        await google.colab.output.renderOutput(dataTable, element);\n",
              "        const docLink = document.createElement('div');\n",
              "        docLink.innerHTML = docLinkHtml;\n",
              "        element.appendChild(docLink);\n",
              "      }\n",
              "    </script>\n",
              "  </div>\n",
              "\n",
              "\n",
              "<div id=\"df-06f25989-d835-4c44-942a-8f21997bd83e\">\n",
              "  <button class=\"colab-df-quickchart\" onclick=\"quickchart('df-06f25989-d835-4c44-942a-8f21997bd83e')\"\n",
              "            title=\"Suggest charts\"\n",
              "            style=\"display:none;\">\n",
              "\n",
              "<svg xmlns=\"http://www.w3.org/2000/svg\" height=\"24px\"viewBox=\"0 0 24 24\"\n",
              "     width=\"24px\">\n",
              "    <g>\n",
              "        <path d=\"M19 3H5c-1.1 0-2 .9-2 2v14c0 1.1.9 2 2 2h14c1.1 0 2-.9 2-2V5c0-1.1-.9-2-2-2zM9 17H7v-7h2v7zm4 0h-2V7h2v10zm4 0h-2v-4h2v4z\"/>\n",
              "    </g>\n",
              "</svg>\n",
              "  </button>\n",
              "\n",
              "<style>\n",
              "  .colab-df-quickchart {\n",
              "      --bg-color: #E8F0FE;\n",
              "      --fill-color: #1967D2;\n",
              "      --hover-bg-color: #E2EBFA;\n",
              "      --hover-fill-color: #174EA6;\n",
              "      --disabled-fill-color: #AAA;\n",
              "      --disabled-bg-color: #DDD;\n",
              "  }\n",
              "\n",
              "  [theme=dark] .colab-df-quickchart {\n",
              "      --bg-color: #3B4455;\n",
              "      --fill-color: #D2E3FC;\n",
              "      --hover-bg-color: #434B5C;\n",
              "      --hover-fill-color: #FFFFFF;\n",
              "      --disabled-bg-color: #3B4455;\n",
              "      --disabled-fill-color: #666;\n",
              "  }\n",
              "\n",
              "  .colab-df-quickchart {\n",
              "    background-color: var(--bg-color);\n",
              "    border: none;\n",
              "    border-radius: 50%;\n",
              "    cursor: pointer;\n",
              "    display: none;\n",
              "    fill: var(--fill-color);\n",
              "    height: 32px;\n",
              "    padding: 0;\n",
              "    width: 32px;\n",
              "  }\n",
              "\n",
              "  .colab-df-quickchart:hover {\n",
              "    background-color: var(--hover-bg-color);\n",
              "    box-shadow: 0 1px 2px rgba(60, 64, 67, 0.3), 0 1px 3px 1px rgba(60, 64, 67, 0.15);\n",
              "    fill: var(--button-hover-fill-color);\n",
              "  }\n",
              "\n",
              "  .colab-df-quickchart-complete:disabled,\n",
              "  .colab-df-quickchart-complete:disabled:hover {\n",
              "    background-color: var(--disabled-bg-color);\n",
              "    fill: var(--disabled-fill-color);\n",
              "    box-shadow: none;\n",
              "  }\n",
              "\n",
              "  .colab-df-spinner {\n",
              "    border: 2px solid var(--fill-color);\n",
              "    border-color: transparent;\n",
              "    border-bottom-color: var(--fill-color);\n",
              "    animation:\n",
              "      spin 1s steps(1) infinite;\n",
              "  }\n",
              "\n",
              "  @keyframes spin {\n",
              "    0% {\n",
              "      border-color: transparent;\n",
              "      border-bottom-color: var(--fill-color);\n",
              "      border-left-color: var(--fill-color);\n",
              "    }\n",
              "    20% {\n",
              "      border-color: transparent;\n",
              "      border-left-color: var(--fill-color);\n",
              "      border-top-color: var(--fill-color);\n",
              "    }\n",
              "    30% {\n",
              "      border-color: transparent;\n",
              "      border-left-color: var(--fill-color);\n",
              "      border-top-color: var(--fill-color);\n",
              "      border-right-color: var(--fill-color);\n",
              "    }\n",
              "    40% {\n",
              "      border-color: transparent;\n",
              "      border-right-color: var(--fill-color);\n",
              "      border-top-color: var(--fill-color);\n",
              "    }\n",
              "    60% {\n",
              "      border-color: transparent;\n",
              "      border-right-color: var(--fill-color);\n",
              "    }\n",
              "    80% {\n",
              "      border-color: transparent;\n",
              "      border-right-color: var(--fill-color);\n",
              "      border-bottom-color: var(--fill-color);\n",
              "    }\n",
              "    90% {\n",
              "      border-color: transparent;\n",
              "      border-bottom-color: var(--fill-color);\n",
              "    }\n",
              "  }\n",
              "</style>\n",
              "\n",
              "  <script>\n",
              "    async function quickchart(key) {\n",
              "      const quickchartButtonEl =\n",
              "        document.querySelector('#' + key + ' button');\n",
              "      quickchartButtonEl.disabled = true;  // To prevent multiple clicks.\n",
              "      quickchartButtonEl.classList.add('colab-df-spinner');\n",
              "      try {\n",
              "        const charts = await google.colab.kernel.invokeFunction(\n",
              "            'suggestCharts', [key], {});\n",
              "      } catch (error) {\n",
              "        console.error('Error during call to suggestCharts:', error);\n",
              "      }\n",
              "      quickchartButtonEl.classList.remove('colab-df-spinner');\n",
              "      quickchartButtonEl.classList.add('colab-df-quickchart-complete');\n",
              "    }\n",
              "    (() => {\n",
              "      let quickchartButtonEl =\n",
              "        document.querySelector('#df-06f25989-d835-4c44-942a-8f21997bd83e button');\n",
              "      quickchartButtonEl.style.display =\n",
              "        google.colab.kernel.accessAllowed ? 'block' : 'none';\n",
              "    })();\n",
              "  </script>\n",
              "</div>\n",
              "\n",
              "  <div id=\"id_93db0004-6329-425d-89b0-8f3fa9f62388\">\n",
              "    <style>\n",
              "      .colab-df-generate {\n",
              "        background-color: #E8F0FE;\n",
              "        border: none;\n",
              "        border-radius: 50%;\n",
              "        cursor: pointer;\n",
              "        display: none;\n",
              "        fill: #1967D2;\n",
              "        height: 32px;\n",
              "        padding: 0 0 0 0;\n",
              "        width: 32px;\n",
              "      }\n",
              "\n",
              "      .colab-df-generate:hover {\n",
              "        background-color: #E2EBFA;\n",
              "        box-shadow: 0px 1px 2px rgba(60, 64, 67, 0.3), 0px 1px 3px 1px rgba(60, 64, 67, 0.15);\n",
              "        fill: #174EA6;\n",
              "      }\n",
              "\n",
              "      [theme=dark] .colab-df-generate {\n",
              "        background-color: #3B4455;\n",
              "        fill: #D2E3FC;\n",
              "      }\n",
              "\n",
              "      [theme=dark] .colab-df-generate:hover {\n",
              "        background-color: #434B5C;\n",
              "        box-shadow: 0px 1px 3px 1px rgba(0, 0, 0, 0.15);\n",
              "        filter: drop-shadow(0px 1px 2px rgba(0, 0, 0, 0.3));\n",
              "        fill: #FFFFFF;\n",
              "      }\n",
              "    </style>\n",
              "    <button class=\"colab-df-generate\" onclick=\"generateWithVariable('d')\"\n",
              "            title=\"Generate code using this dataframe.\"\n",
              "            style=\"display:none;\">\n",
              "\n",
              "  <svg xmlns=\"http://www.w3.org/2000/svg\" height=\"24px\"viewBox=\"0 0 24 24\"\n",
              "       width=\"24px\">\n",
              "    <path d=\"M7,19H8.4L18.45,9,17,7.55,7,17.6ZM5,21V16.75L18.45,3.32a2,2,0,0,1,2.83,0l1.4,1.43a1.91,1.91,0,0,1,.58,1.4,1.91,1.91,0,0,1-.58,1.4L9.25,21ZM18.45,9,17,7.55Zm-12,3A5.31,5.31,0,0,0,4.9,8.1,5.31,5.31,0,0,0,1,6.5,5.31,5.31,0,0,0,4.9,4.9,5.31,5.31,0,0,0,6.5,1,5.31,5.31,0,0,0,8.1,4.9,5.31,5.31,0,0,0,12,6.5,5.46,5.46,0,0,0,6.5,12Z\"/>\n",
              "  </svg>\n",
              "    </button>\n",
              "    <script>\n",
              "      (() => {\n",
              "      const buttonEl =\n",
              "        document.querySelector('#id_93db0004-6329-425d-89b0-8f3fa9f62388 button.colab-df-generate');\n",
              "      buttonEl.style.display =\n",
              "        google.colab.kernel.accessAllowed ? 'block' : 'none';\n",
              "\n",
              "      buttonEl.onclick = () => {\n",
              "        google.colab.notebook.generateWithVariable('d');\n",
              "      }\n",
              "      })();\n",
              "    </script>\n",
              "  </div>\n",
              "\n",
              "    </div>\n",
              "  </div>\n"
            ],
            "application/vnd.google.colaboratory.intrinsic+json": {
              "type": "dataframe",
              "variable_name": "d",
              "summary": "{\n  \"name\": \"d\",\n  \"rows\": 17000,\n  \"fields\": [\n    {\n      \"column\": \"longitude\",\n      \"properties\": {\n        \"dtype\": \"number\",\n        \"std\": 2.0051664084261778,\n        \"min\": -124.35,\n        \"max\": -114.31,\n        \"num_unique_values\": 827,\n        \"samples\": [\n          -117.56,\n          -123.32,\n          -118.26\n        ],\n        \"semantic_type\": \"\",\n        \"description\": \"\"\n      }\n    },\n    {\n      \"column\": \"latitude\",\n      \"properties\": {\n        \"dtype\": \"number\",\n        \"std\": 2.1373397946570836,\n        \"min\": 32.54,\n        \"max\": 41.95,\n        \"num_unique_values\": 840,\n        \"samples\": [\n          38.44,\n          40.79,\n          32.69\n        ],\n        \"semantic_type\": \"\",\n        \"description\": \"\"\n      }\n    },\n    {\n      \"column\": \"housing_median_age\",\n      \"properties\": {\n        \"dtype\": \"number\",\n        \"std\": 12.586936981660399,\n        \"min\": 1.0,\n        \"max\": 52.0,\n        \"num_unique_values\": 52,\n        \"samples\": [\n          23.0,\n          52.0,\n          47.0\n        ],\n        \"semantic_type\": \"\",\n        \"description\": \"\"\n      }\n    },\n    {\n      \"column\": \"total_rooms\",\n      \"properties\": {\n        \"dtype\": \"number\",\n        \"std\": 2179.947071452767,\n        \"min\": 2.0,\n        \"max\": 37937.0,\n        \"num_unique_values\": 5533,\n        \"samples\": [\n          3564.0,\n          6955.0,\n          5451.0\n        ],\n        \"semantic_type\": \"\",\n        \"description\": \"\"\n      }\n    },\n    {\n      \"column\": \"total_bedrooms\",\n      \"properties\": {\n        \"dtype\": \"number\",\n        \"std\": 421.4994515798646,\n        \"min\": 1.0,\n        \"max\": 6445.0,\n        \"num_unique_values\": 1848,\n        \"samples\": [\n          729.0,\n          719.0,\n          2075.0\n        ],\n        \"semantic_type\": \"\",\n        \"description\": \"\"\n      }\n    },\n    {\n      \"column\": \"population\",\n      \"properties\": {\n        \"dtype\": \"number\",\n        \"std\": 1147.8529591595266,\n        \"min\": 3.0,\n        \"max\": 35682.0,\n        \"num_unique_values\": 3683,\n        \"samples\": [\n          249.0,\n          1735.0,\n          235.0\n        ],\n        \"semantic_type\": \"\",\n        \"description\": \"\"\n      }\n    },\n    {\n      \"column\": \"households\",\n      \"properties\": {\n        \"dtype\": \"number\",\n        \"std\": 384.5208408559009,\n        \"min\": 1.0,\n        \"max\": 6082.0,\n        \"num_unique_values\": 1740,\n        \"samples\": [\n          390.0,\n          1089.0,\n          1351.0\n        ],\n        \"semantic_type\": \"\",\n        \"description\": \"\"\n      }\n    },\n    {\n      \"column\": \"median_income\",\n      \"properties\": {\n        \"dtype\": \"number\",\n        \"std\": 1.9081565183791036,\n        \"min\": 0.4999,\n        \"max\": 15.0001,\n        \"num_unique_values\": 11175,\n        \"samples\": [\n          7.2655,\n          5.6293,\n          4.2262\n        ],\n        \"semantic_type\": \"\",\n        \"description\": \"\"\n      }\n    },\n    {\n      \"column\": \"median_house_value\",\n      \"properties\": {\n        \"dtype\": \"number\",\n        \"std\": 115983.76438720885,\n        \"min\": 14999.0,\n        \"max\": 500001.0,\n        \"num_unique_values\": 3694,\n        \"samples\": [\n          162300.0,\n          346800.0,\n          116700.0\n        ],\n        \"semantic_type\": \"\",\n        \"description\": \"\"\n      }\n    }\n  ]\n}"
            }
          },
          "metadata": {},
          "execution_count": 19
        }
      ]
    },
    {
      "cell_type": "code",
      "source": [
        "print(\"1.)Mean of Longitude is\",np.mean(d['longitude']))\n",
        "print(\"2.)Mean of Latitude is\",np.mean(d['latitude']))\n",
        "print(\"3.)Mean of Housing Median Age is\",np.mean(d['housing_median_age']))\n",
        "print(\"4.)Mean of Total Rooms is\",np.mean(d['total_rooms']))\n",
        "print(\"5.)Mean of Total Bedrooms is\",np.mean(d['total_bedrooms']))\n",
        "print(\"6.)Mean of Population is\",np.mean(d['population']))\n",
        "print(\"7.)Mean of Households is\",np.mean(d['households']))\n",
        "print(\"8.)Mean of Median Income is\",np.mean(d['median_income']))\n",
        "print(\"9.)Mean of Median House_value is\",np.mean(d['median_house_value']))"
      ],
      "metadata": {
        "colab": {
          "base_uri": "https://localhost:8080/"
        },
        "id": "r6w9rYXiO4nU",
        "outputId": "6ff05569-e8c1-44fd-8e51-6b8bc6b2df11"
      },
      "execution_count": 20,
      "outputs": [
        {
          "output_type": "stream",
          "name": "stdout",
          "text": [
            "1.)Mean of Longitude is -119.5621082352941\n",
            "2.)Mean of Latitude is 35.62522470588235\n",
            "3.)Mean of Housing Median Age is 28.58935294117647\n",
            "4.)Mean of Total Rooms is 2643.664411764706\n",
            "5.)Mean of Total Bedrooms is 539.4108235294118\n",
            "6.)Mean of Population is 1429.5739411764705\n",
            "7.)Mean of Households is 501.2219411764706\n",
            "8.)Mean of Median Income is 3.8835781000000007\n",
            "9.)Mean of Median House_value is 207300.91235294117\n"
          ]
        }
      ]
    },
    {
      "cell_type": "code",
      "source": [
        "print(\"1.)Median of Longitude is\",np.median(d['longitude']))\n",
        "print(\"2.)Median of Latitude is\",np.median(d['latitude']))\n",
        "print(\"3.)Median of Housing Median Age is\",np.median(d['housing_median_age']))\n",
        "print(\"4.)Median of Total Rooms is\",np.median(d['total_rooms']))\n",
        "print(\"5.)Median of Total Bedrooms is\",np.median(d['total_bedrooms']))\n",
        "print(\"6.)Median of population is\",np.median(d['population']))\n",
        "print(\"7.)Median of Households is\",np.median(d['households']))\n",
        "print(\"8.)Median of Median Income is\",np.median(d['median_income']))\n",
        "print(\"9.)Median of Median House Value is\",np.median(d['median_house_value']))"
      ],
      "metadata": {
        "colab": {
          "base_uri": "https://localhost:8080/"
        },
        "id": "zwDQsFA9O9MO",
        "outputId": "e6f37665-aeeb-4831-c4ba-9d106ab17f24"
      },
      "execution_count": 21,
      "outputs": [
        {
          "output_type": "stream",
          "name": "stdout",
          "text": [
            "1.)Median of Longitude is -118.49\n",
            "2.)Median of Latitude is 34.25\n",
            "3.)Median of Housing Median Age is 29.0\n",
            "4.)Median of Total Rooms is 2127.0\n",
            "5.)Median of Total Bedrooms is 434.0\n",
            "6.)Median of population is 1167.0\n",
            "7.)Median of Households is 409.0\n",
            "8.)Median of Median Income is 3.5446\n",
            "9.)Median of Median House Value is 180400.0\n"
          ]
        }
      ]
    },
    {
      "cell_type": "code",
      "source": [
        "print(\"1.)Mode of Longitude is\",s.mode(d['longitude']))\n",
        "print(\"2.)Mode of Latitude is\",s.mode(d['latitude']))\n",
        "print(\"3.)Mode of Housing Median Age is\",s.mode(d['housing_median_age']))\n",
        "print(\"4.)Mode of Total Rooms is\",s.mode(d['total_rooms']))\n",
        "print(\"5.)Mode of Total Bedrooms is\",s.mode(d['total_bedrooms']))\n",
        "print(\"6.)Mode of Population is\",s.mode(d['population']))\n",
        "print(\"7.)Mode of Households is\",s.mode(d['households']))\n",
        "print(\"8.)Mode of Median Income is\",s.mode(d['median_income']))\n",
        "print(\"9.)Mode of Median House Value is\",s.mode(d['median_house_value']))\n",
        ""
      ],
      "metadata": {
        "colab": {
          "base_uri": "https://localhost:8080/"
        },
        "id": "ngdPZLEqPAqq",
        "outputId": "359923c8-5f50-468c-e9f2-0aaef64d1c4e"
      },
      "execution_count": 22,
      "outputs": [
        {
          "output_type": "stream",
          "name": "stdout",
          "text": [
            "1.)Mode of Longitude is ModeResult(mode=-118.31, count=136)\n",
            "2.)Mode of Latitude is ModeResult(mode=34.06, count=205)\n",
            "3.)Mode of Housing Median Age is ModeResult(mode=52.0, count=1052)\n",
            "4.)Mode of Total Rooms is ModeResult(mode=1582.0, count=16)\n",
            "5.)Mode of Total Bedrooms is ModeResult(mode=280.0, count=48)\n",
            "6.)Mode of Population is ModeResult(mode=891.0, count=23)\n",
            "7.)Mode of Households is ModeResult(mode=306.0, count=48)\n",
            "8.)Mode of Median Income is ModeResult(mode=3.125, count=41)\n",
            "9.)Mode of Median House Value is ModeResult(mode=500001.0, count=814)\n"
          ]
        }
      ]
    },
    {
      "cell_type": "code",
      "source": [
        "print(\"1.)Variance of Longitude is\",np.var(d['longitude']))\n",
        "print(\"2.)Variance of Latitude is\",np.var(d['latitude']))\n",
        "print(\"3.)Variance of Housing Median_age is\",np.var(d['housing_median_age']))\n",
        "print(\"4.)Variance of Total Rooms is\",np.var(d['total_rooms']))\n",
        "print(\"5.)Variance of Total Bedrooms is\",np.var(d['total_bedrooms']))\n",
        "print(\"6.)Variance of Population is\",np.var(d['population']))\n",
        "print(\"7.)Variance of Households is\",np.var(d['households']))\n",
        "print(\"8.)Variance of Median Income is\",np.var(d['median_income']))\n",
        "print(\"9.)Variance of Median House Value is\",np.var(d['median_house_value']))\n",
        ""
      ],
      "metadata": {
        "colab": {
          "base_uri": "https://localhost:8080/"
        },
        "id": "aAK8tp0YPFzM",
        "outputId": "d1ce9fd7-dd05-4cc3-85db-34299497f83e"
      },
      "execution_count": 23,
      "outputs": [
        {
          "output_type": "stream",
          "name": "stdout",
          "text": [
            "1.)Variance of Longitude is 4.020455814167474\n",
            "2.)Variance of Latitude is 4.56795267891903\n",
            "3.)Variance of Housing Median_age is 158.42166311072666\n",
            "4.)Variance of Total Rooms is 4751889.69496877\n",
            "5.)Variance of Total Bedrooms is 177651.3369887336\n",
            "6.)Variance of Population is 1317488.9119444669\n",
            "7.)Variance of Households is 147847.57962446712\n",
            "8.)Variance of Median Income is 3.6408471185562723\n",
            "9.)Variance of Median House Value is 13451442293.56867\n"
          ]
        }
      ]
    },
    {
      "cell_type": "code",
      "source": [
        "print(\"1.)Standard deviation of Longitude is\",np.std(d['longitude']))\n",
        "print(\"2.)Standard deviation of Latitude is\",np.std(d['latitude']))\n",
        "print(\"3.)Standard deviation of Housing Median Age is\",np.std(d['housing_median_age']))\n",
        "print(\"4.)Standard deviation of Total Rooms is\",np.std(d['total_rooms']))\n",
        "print(\"5.)Standard deviation of Total Bedrooms is\",np.std(d['total_bedrooms']))\n",
        "print(\"6.)Standard deviation of Population is\",np.std(d['population']))\n",
        "print(\"7.)Standard deviation of Households is\",np.std(d['households']))\n",
        "print(\"8.)Standard deviation of Median Income is\",np.std(d['median_income']))\n",
        "print(\"9.)Standard deviation of Median House Value is\",np.std(d['median_house_value']))"
      ],
      "metadata": {
        "colab": {
          "base_uri": "https://localhost:8080/"
        },
        "id": "JEAV9JA3PMbf",
        "outputId": "55867935-89f0-4af8-c1e3-f5c66df5e8c4"
      },
      "execution_count": 24,
      "outputs": [
        {
          "output_type": "stream",
          "name": "stdout",
          "text": [
            "1.)Standard deviation of Longitude is 2.005107432076265\n",
            "2.)Standard deviation of Latitude is 2.1372769307974644\n",
            "3.)Standard deviation of Housing Median Age is 12.58656677218719\n",
            "4.)Standard deviation of Total Rooms is 2179.8829544195187\n",
            "5.)Standard deviation of Total Bedrooms is 421.4870543548563\n",
            "6.)Standard deviation of Population is 1147.819198281884\n",
            "7.)Standard deviation of Households is 384.50953125308496\n",
            "8.)Standard deviation of Median Income is 1.9081003953032116\n",
            "9.)Standard deviation of Median House Value is 115980.35304985354\n"
          ]
        }
      ]
    },
    {
      "cell_type": "code",
      "source": [
        "print(\"1.)Range of Longitude is \",max(d['longitude'])-min(d['longitude']))\n",
        "print(\"2.)Range of Latitude is \",max(d['latitude'])-min(d['latitude']))\n",
        "print(\"3.)Range of Housing Median Age is \",max(d['housing_median_age'])-min(d['housing_median_age']))\n",
        "print(\"4.)Range of Total Rooms is \",max(d['total_rooms'])-min(d['total_rooms']))\n",
        "print(\"5.)Range of Total Bedrooms is \",max(d['total_bedrooms'])-min(d['total_bedrooms']))\n",
        "print(\"6.)Range of Population is \",max(d['population'])-min(d['population']))\n",
        "print(\"7.)Range of Households is \",max(d['households'])-min(d['households']))\n",
        "print(\"8.)Range of Median Income is \",max(d['median_income'])-min(d['median_income']))\n",
        "print(\"9.)Range of Median House Value is \",max(d['median_house_value'])-min(d['median_house_value']))\n",
        ""
      ],
      "metadata": {
        "colab": {
          "base_uri": "https://localhost:8080/"
        },
        "id": "-Gr_b497PVZ1",
        "outputId": "64c0c39b-740b-47e2-848e-3794cd2824c0"
      },
      "execution_count": 25,
      "outputs": [
        {
          "output_type": "stream",
          "name": "stdout",
          "text": [
            "1.)Range of Longitude is  10.039999999999992\n",
            "2.)Range of Latitude is  9.410000000000004\n",
            "3.)Range of Housing Median Age is  51.0\n",
            "4.)Range of Total Rooms is  37935.0\n",
            "5.)Range of Total Bedrooms is  6444.0\n",
            "6.)Range of Population is  35679.0\n",
            "7.)Range of Households is  6081.0\n",
            "8.)Range of Median Income is  14.5002\n",
            "9.)Range of Median House Value is  485002.0\n"
          ]
        }
      ]
    },
    {
      "cell_type": "code",
      "source": [
        "print(\"1.)Interquartile range of Longitude is \",np.percentile(d['longitude'],75)-np.percentile(d['longitude'],25))\n",
        "print(\"2.)Interquartile range of Latitude is \",np.percentile(d['latitude'],75)-np.percentile(d['latitude'],25))\n",
        "print(\"3.)Interquartile range of Housing Median Age is \",np.percentile(d['housing_median_age'],75)-np.percentile(d['housing_median_age'],25))\n",
        "print(\"4.)Interquartile range of Total Rooms is \",np.percentile(d['total_rooms'],75)-np.percentile(d['total_rooms'],25))\n",
        "print(\"5.)Interquartile range of Total Bedrooms is \",np.percentile(d['total_bedrooms'],75)-np.percentile(d['total_bedrooms'],25))\n",
        "print(\"6.)Interquartile range of Population is \",np.percentile(d['population'],75)-np.percentile(d['population'],25))\n",
        "print(\"7.)Interquartile range of Households is \",np.percentile(d['households'],75)-np.percentile(d['households'],25))\n",
        "print(\"8.)Interquartile range of Median Income is \",np.percentile(d['median_income'],75)-np.percentile(d['median_income'],25))\n",
        "print(\"9.)Interquartile range of Median House_value is \",np.percentile(d['median_house_value'],75)-np.percentile(d['median_house_value'],25))\n",
        "\n",
        ""
      ],
      "metadata": {
        "colab": {
          "base_uri": "https://localhost:8080/"
        },
        "id": "X7b8Mf7IPadW",
        "outputId": "ba3acbad-805f-42b8-da32-ec094ae767e1"
      },
      "execution_count": 26,
      "outputs": [
        {
          "output_type": "stream",
          "name": "stdout",
          "text": [
            "1.)Interquartile range of Longitude is  3.7900000000000063\n",
            "2.)Interquartile range of Latitude is  3.789999999999999\n",
            "3.)Interquartile range of Housing Median Age is  19.0\n",
            "4.)Interquartile range of Total Rooms is  1689.25\n",
            "5.)Interquartile range of Total Bedrooms is  351.25\n",
            "6.)Interquartile range of Population is  931.0\n",
            "7.)Interquartile range of Households is  323.25\n",
            "8.)Interquartile range of Median Income is  2.2006250000000005\n",
            "9.)Interquartile range of Median House_value is  145600.0\n"
          ]
        }
      ]
    },
    {
      "cell_type": "code",
      "source": [
        "columns = ['longitude', 'latitude', 'housing_median_age', 'total_rooms',\n",
        "           'total_bedrooms', 'population', 'households', 'median_income', 'median_house_value']\n",
        "\n",
        "for a in columns:\n",
        "    values = d[a]\n",
        "    mean = np.mean(values)\n",
        "    std = np.std(values)\n",
        "    kurtosis = np.mean(((values - mean) / std) ** 4) - 3\n",
        "    print(\"Kurtosis of\",a, \":\", kurtosis)\n"
      ],
      "metadata": {
        "colab": {
          "base_uri": "https://localhost:8080/"
        },
        "id": "uVQZgQRtPfjT",
        "outputId": "93022b92-2bfc-45eb-a211-6e4e3265d121"
      },
      "execution_count": 27,
      "outputs": [
        {
          "output_type": "stream",
          "name": "stdout",
          "text": [
            "Kurtosis of longitude : -1.3222937000181345\n",
            "Kurtosis of latitude : -1.1122523149717822\n",
            "Kurtosis of housing_median_age : -0.8009436273526562\n",
            "Kurtosis of total_rooms : 29.50685142754096\n",
            "Kurtosis of total_bedrooms : 19.6866056565209\n",
            "Kurtosis of population : 80.83786311937729\n",
            "Kurtosis of households : 20.686206054602916\n",
            "Kurtosis of median_income : 4.76239090620088\n",
            "Kurtosis of median_house_value : 0.30355527450221276\n"
          ]
        }
      ]
    },
    {
      "cell_type": "code",
      "source": [
        "columns = ['longitude', 'latitude', 'housing_median_age', 'total_rooms',\n",
        "           'total_bedrooms', 'population', 'households', 'median_income', 'median_house_value']\n",
        "\n",
        "for a in columns:\n",
        "    values = d[a]\n",
        "    mean = np.mean(values)\n",
        "    std = np.std(values)\n",
        "    skewness = np.mean(((values - mean) / std) ** 3)\n",
        "    print(\"Skewness of\",a, \":\", skewness)"
      ],
      "metadata": {
        "colab": {
          "base_uri": "https://localhost:8080/"
        },
        "id": "XObu2G0WPklv",
        "outputId": "3626b876-a60b-4dce-de05-3f388a7c2fe1"
      },
      "execution_count": 28,
      "outputs": [
        {
          "output_type": "stream",
          "name": "stdout",
          "text": [
            "Skewness of longitude : -0.3039761523070952\n",
            "Skewness of latitude : 0.47175948982753174\n",
            "Skewness of housing_median_age : 0.06488830685009046\n",
            "Skewness of total_rooms : 4.00237680794326\n",
            "Skewness of total_bedrooms : 3.322343534496144\n",
            "Skewness of population : 5.1867541718637655\n",
            "Skewness of households : 3.3423734139781573\n",
            "Skewness of median_income : 1.6265495626993864\n",
            "Skewness of median_house_value : 0.972950775194606\n"
          ]
        }
      ]
    },
    {
      "cell_type": "code",
      "source": [],
      "metadata": {
        "id": "0hogbXh3PomM"
      },
      "execution_count": null,
      "outputs": []
    }
  ]
}