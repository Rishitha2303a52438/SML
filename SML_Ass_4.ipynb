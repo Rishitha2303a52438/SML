{
  "nbformat": 4,
  "nbformat_minor": 0,
  "metadata": {
    "colab": {
      "provenance": []
    },
    "kernelspec": {
      "name": "python3",
      "display_name": "Python 3"
    },
    "language_info": {
      "name": "python"
    }
  },
  "cells": [
    {
      "cell_type": "code",
      "execution_count": 4,
      "metadata": {
        "colab": {
          "base_uri": "https://localhost:8080/"
        },
        "id": "1byPEv1Tkudp",
        "outputId": "7f2d849d-e3ed-4f59-c47a-671253ce476f"
      },
      "outputs": [
        {
          "output_type": "stream",
          "name": "stdout",
          "text": [
            "0       1\n",
            "1       2\n",
            "2       2\n",
            "3       2\n",
            "4       1\n",
            "       ..\n",
            "1995    0\n",
            "1996    2\n",
            "1997    3\n",
            "1998    0\n",
            "1999    3\n",
            "Name: price_range, Length: 2000, dtype: int64\n"
          ]
        }
      ],
      "source": [
        "#Question1\n",
        "import pandas as pd\n",
        "d=pd.read_csv('/content/train (2).csv')\n",
        "d\n",
        "y=d['price_range']\n",
        "print(y)"
      ]
    },
    {
      "cell_type": "code",
      "source": [
        "x=d.drop('price_range',axis=1)\n",
        "print(x)"
      ],
      "metadata": {
        "colab": {
          "base_uri": "https://localhost:8080/"
        },
        "id": "HIrBW1r5kzLb",
        "outputId": "0dbc6995-8a1e-4489-8f39-7058a56d5826"
      },
      "execution_count": 5,
      "outputs": [
        {
          "output_type": "stream",
          "name": "stdout",
          "text": [
            "      battery_power  blue  clock_speed  dual_sim  fc  four_g  int_memory  \\\n",
            "0               842     0          2.2         0   1       0           7   \n",
            "1              1021     1          0.5         1   0       1          53   \n",
            "2               563     1          0.5         1   2       1          41   \n",
            "3               615     1          2.5         0   0       0          10   \n",
            "4              1821     1          1.2         0  13       1          44   \n",
            "...             ...   ...          ...       ...  ..     ...         ...   \n",
            "1995            794     1          0.5         1   0       1           2   \n",
            "1996           1965     1          2.6         1   0       0          39   \n",
            "1997           1911     0          0.9         1   1       1          36   \n",
            "1998           1512     0          0.9         0   4       1          46   \n",
            "1999            510     1          2.0         1   5       1          45   \n",
            "\n",
            "      m_dep  mobile_wt  n_cores  pc  px_height  px_width   ram  sc_h  sc_w  \\\n",
            "0       0.6        188        2   2         20       756  2549     9     7   \n",
            "1       0.7        136        3   6        905      1988  2631    17     3   \n",
            "2       0.9        145        5   6       1263      1716  2603    11     2   \n",
            "3       0.8        131        6   9       1216      1786  2769    16     8   \n",
            "4       0.6        141        2  14       1208      1212  1411     8     2   \n",
            "...     ...        ...      ...  ..        ...       ...   ...   ...   ...   \n",
            "1995    0.8        106        6  14       1222      1890   668    13     4   \n",
            "1996    0.2        187        4   3        915      1965  2032    11    10   \n",
            "1997    0.7        108        8   3        868      1632  3057     9     1   \n",
            "1998    0.1        145        5   5        336       670   869    18    10   \n",
            "1999    0.9        168        6  16        483       754  3919    19     4   \n",
            "\n",
            "      talk_time  three_g  touch_screen  wifi  \n",
            "0            19        0             0     1  \n",
            "1             7        1             1     0  \n",
            "2             9        1             1     0  \n",
            "3            11        1             0     0  \n",
            "4            15        1             1     0  \n",
            "...         ...      ...           ...   ...  \n",
            "1995         19        1             1     0  \n",
            "1996         16        1             1     1  \n",
            "1997          5        1             1     0  \n",
            "1998         19        1             1     1  \n",
            "1999          2        1             1     1  \n",
            "\n",
            "[2000 rows x 20 columns]\n"
          ]
        }
      ]
    },
    {
      "cell_type": "code",
      "source": [
        "dd=(x-x.min())/(x.max()-x.min())\n",
        "print(dd)"
      ],
      "metadata": {
        "colab": {
          "base_uri": "https://localhost:8080/"
        },
        "id": "uLdu2iHTk-Dc",
        "outputId": "eda95c12-8251-4b43-8fb4-da08d377e71b"
      },
      "execution_count": 6,
      "outputs": [
        {
          "output_type": "stream",
          "name": "stdout",
          "text": [
            "      battery_power  blue  clock_speed  dual_sim        fc  four_g  \\\n",
            "0          0.227789   0.0         0.68       0.0  0.052632     0.0   \n",
            "1          0.347361   1.0         0.00       1.0  0.000000     1.0   \n",
            "2          0.041416   1.0         0.00       1.0  0.105263     1.0   \n",
            "3          0.076152   1.0         0.80       0.0  0.000000     0.0   \n",
            "4          0.881764   1.0         0.28       0.0  0.684211     1.0   \n",
            "...             ...   ...          ...       ...       ...     ...   \n",
            "1995       0.195725   1.0         0.00       1.0  0.000000     1.0   \n",
            "1996       0.977956   1.0         0.84       1.0  0.000000     0.0   \n",
            "1997       0.941884   0.0         0.16       1.0  0.052632     1.0   \n",
            "1998       0.675351   0.0         0.16       0.0  0.210526     1.0   \n",
            "1999       0.006012   1.0         0.60       1.0  0.263158     1.0   \n",
            "\n",
            "      int_memory     m_dep  mobile_wt   n_cores    pc  px_height  px_width  \\\n",
            "0       0.080645  0.555556   0.900000  0.142857  0.10   0.010204  0.170895   \n",
            "1       0.822581  0.666667   0.466667  0.285714  0.30   0.461735  0.993324   \n",
            "2       0.629032  0.888889   0.541667  0.571429  0.30   0.644388  0.811749   \n",
            "3       0.129032  0.777778   0.425000  0.714286  0.45   0.620408  0.858478   \n",
            "4       0.677419  0.555556   0.508333  0.142857  0.70   0.616327  0.475300   \n",
            "...          ...       ...        ...       ...   ...        ...       ...   \n",
            "1995    0.000000  0.777778   0.216667  0.714286  0.70   0.623469  0.927904   \n",
            "1996    0.596774  0.111111   0.891667  0.428571  0.15   0.466837  0.977971   \n",
            "1997    0.548387  0.666667   0.233333  1.000000  0.15   0.442857  0.755674   \n",
            "1998    0.709677  0.000000   0.541667  0.571429  0.25   0.171429  0.113485   \n",
            "1999    0.693548  0.888889   0.733333  0.714286  0.80   0.246429  0.169559   \n",
            "\n",
            "           ram      sc_h      sc_w  talk_time  three_g  touch_screen  wifi  \n",
            "0     0.612774  0.285714  0.388889   0.944444      0.0           0.0   1.0  \n",
            "1     0.634687  0.857143  0.166667   0.277778      1.0           1.0   0.0  \n",
            "2     0.627205  0.428571  0.111111   0.388889      1.0           1.0   0.0  \n",
            "3     0.671566  0.785714  0.444444   0.500000      1.0           0.0   0.0  \n",
            "4     0.308658  0.214286  0.111111   0.722222      1.0           1.0   0.0  \n",
            "...        ...       ...       ...        ...      ...           ...   ...  \n",
            "1995  0.110102  0.571429  0.222222   0.944444      1.0           1.0   0.0  \n",
            "1996  0.474613  0.428571  0.555556   0.777778      1.0           1.0   1.0  \n",
            "1997  0.748530  0.285714  0.055556   0.166667      1.0           1.0   0.0  \n",
            "1998  0.163816  0.928571  0.555556   0.944444      1.0           1.0   1.0  \n",
            "1999  0.978888  1.000000  0.222222   0.000000      1.0           1.0   1.0  \n",
            "\n",
            "[2000 rows x 20 columns]\n"
          ]
        }
      ]
    },
    {
      "cell_type": "code",
      "source": [
        "from sklearn.model_selection import train_test_split\n",
        "x_train,x_test,y_train,y_test=train_test_split(dd,y,test_size=0.2,random_state=100)\n",
        "print(x_train)"
      ],
      "metadata": {
        "colab": {
          "base_uri": "https://localhost:8080/"
        },
        "id": "nXj5v09hk-o1",
        "outputId": "efe45f69-6f0e-4956-b014-c2175a7cddf4"
      },
      "execution_count": 7,
      "outputs": [
        {
          "output_type": "stream",
          "name": "stdout",
          "text": [
            "      battery_power  blue  clock_speed  dual_sim        fc  four_g  \\\n",
            "1260       0.398130   0.0         0.36       0.0  0.000000     0.0   \n",
            "916        0.210421   1.0         0.00       0.0  0.210526     0.0   \n",
            "532        0.184369   1.0         0.84       0.0  0.157895     0.0   \n",
            "1159       0.002004   0.0         0.92       1.0  0.000000     0.0   \n",
            "1584       0.983300   1.0         0.76       1.0  0.315789     0.0   \n",
            "...             ...   ...          ...       ...       ...     ...   \n",
            "1879       0.321977   0.0         0.52       0.0  0.000000     1.0   \n",
            "1895       0.566466   1.0         0.64       1.0  0.157895     0.0   \n",
            "1859       0.098864   1.0         0.36       0.0  0.210526     1.0   \n",
            "792        0.765531   0.0         0.36       1.0  0.157895     1.0   \n",
            "1544       0.553774   1.0         0.52       1.0  0.052632     0.0   \n",
            "\n",
            "      int_memory     m_dep  mobile_wt   n_cores    pc  px_height  px_width  \\\n",
            "1260    0.935484  0.777778   0.841667  0.000000  0.85   0.206633  0.012684   \n",
            "916     0.193548  0.888889   0.983333  0.285714  0.65   0.076020  0.038718   \n",
            "532     0.451613  0.888889   0.566667  0.571429  0.85   0.096429  0.429239   \n",
            "1159    0.612903  0.444444   0.816667  0.285714  0.00   0.319388  0.463952   \n",
            "1584    0.709677  0.000000   0.941667  0.428571  0.50   0.356633  0.234312   \n",
            "...          ...       ...        ...       ...   ...        ...       ...   \n",
            "1879    0.822581  0.888889   0.891667  0.000000  0.20   0.510714  0.451268   \n",
            "1895    0.709677  0.888889   0.450000  0.714286  0.60   0.108163  0.082109   \n",
            "1859    0.274194  0.777778   0.916667  0.857143  0.60   0.175510  0.701602   \n",
            "792     0.580645  0.222222   0.183333  0.714286  0.75   0.098469  0.457276   \n",
            "1544    0.612903  0.444444   0.808333  0.000000  0.25   0.098980  0.261682   \n",
            "\n",
            "           ram      sc_h      sc_w  talk_time  three_g  touch_screen  wifi  \n",
            "1260  0.067611  0.714286  0.666667   0.555556      1.0           0.0   0.0  \n",
            "916   0.203634  0.857143  0.555556   0.722222      1.0           0.0   0.0  \n",
            "532   0.970069  0.642857  0.555556   0.277778      1.0           0.0   0.0  \n",
            "1159  0.057189  0.071429  0.000000   0.777778      1.0           0.0   0.0  \n",
            "1584  0.102352  0.071429  0.000000   0.055556      0.0           0.0   1.0  \n",
            "...        ...       ...       ...        ...      ...           ...   ...  \n",
            "1879  0.302779  0.857143  0.444444   0.333333      1.0           1.0   1.0  \n",
            "1895  0.564137  0.428571  0.388889   0.444444      1.0           0.0   1.0  \n",
            "1859  0.129075  0.928571  0.055556   0.000000      1.0           1.0   0.0  \n",
            "792   0.608231  0.785714  0.777778   0.722222      1.0           0.0   1.0  \n",
            "1544  0.647247  0.285714  0.222222   0.666667      1.0           1.0   1.0  \n",
            "\n",
            "[1600 rows x 20 columns]\n"
          ]
        }
      ]
    },
    {
      "cell_type": "code",
      "source": [
        "print(x_test)"
      ],
      "metadata": {
        "colab": {
          "base_uri": "https://localhost:8080/"
        },
        "id": "ETwsYLx_l5-J",
        "outputId": "8b372b62-8fb0-4911-db56-fc223c4d4c1a"
      },
      "execution_count": 8,
      "outputs": [
        {
          "output_type": "stream",
          "name": "stdout",
          "text": [
            "      battery_power  blue  clock_speed  dual_sim        fc  four_g  \\\n",
            "1025       0.387442   1.0         0.80       1.0  0.684211     0.0   \n",
            "1208       0.325985   1.0         0.08       0.0  0.684211     1.0   \n",
            "1055       0.814295   1.0         0.08       1.0  0.000000     0.0   \n",
            "367        0.216433   0.0         0.96       1.0  0.000000     0.0   \n",
            "815        0.675351   1.0         0.00       0.0  0.052632     0.0   \n",
            "...             ...   ...          ...       ...       ...     ...   \n",
            "807        0.541750   0.0         0.32       0.0  0.263158     1.0   \n",
            "711        0.830327   1.0         0.20       0.0  0.052632     1.0   \n",
            "1541       0.215097   0.0         0.20       1.0  0.473684     1.0   \n",
            "1001       0.683367   0.0         0.84       1.0  0.263158     0.0   \n",
            "687        0.178357   0.0         0.00       1.0  0.000000     0.0   \n",
            "\n",
            "      int_memory     m_dep  mobile_wt   n_cores    pc  px_height  px_width  \\\n",
            "1025    0.758065  1.000000   0.158333  0.285714  0.85   0.144898  0.012684   \n",
            "1208    0.790323  0.333333   0.433333  0.285714  0.75   0.341837  0.202937   \n",
            "1055    0.274194  0.000000   0.475000  0.142857  0.15   0.208673  0.097463   \n",
            "367     0.516129  0.777778   0.158333  1.000000  0.85   0.750510  0.911883   \n",
            "815     0.806452  0.000000   0.425000  0.000000  0.70   0.169898  0.301736   \n",
            "...          ...       ...        ...       ...   ...        ...       ...   \n",
            "807     0.129032  0.555556   0.691667  0.142857  0.45   0.048469  0.262350   \n",
            "711     0.290323  0.444444   0.266667  1.000000  0.15   0.034694  0.145527   \n",
            "1541    0.258065  0.111111   0.850000  0.571429  0.80   0.602041  0.567423   \n",
            "1001    0.887097  0.444444   0.366667  0.142857  0.60   0.320918  0.090120   \n",
            "687     0.274194  0.888889   0.658333  0.142857  0.05   0.325000  0.327770   \n",
            "\n",
            "           ram      sc_h      sc_w  talk_time  three_g  touch_screen  wifi  \n",
            "1025  0.018439  0.285714  0.055556   0.222222      0.0           0.0   1.0  \n",
            "1208  0.559327  0.357143  0.055556   1.000000      1.0           0.0   1.0  \n",
            "1055  0.258151  0.571429  0.111111   0.277778      0.0           0.0   0.0  \n",
            "367   0.710583  0.214286  0.111111   0.444444      1.0           1.0   0.0  \n",
            "815   0.733832  0.071429  0.277778   0.277778      0.0           0.0   1.0  \n",
            "...        ...       ...       ...        ...      ...           ...   ...  \n",
            "807   0.984768  0.071429  0.111111   0.611111      1.0           1.0   1.0  \n",
            "711   0.253608  0.928571  0.388889   0.666667      1.0           0.0   0.0  \n",
            "1541  0.972207  0.571429  0.555556   0.388889      1.0           1.0   0.0  \n",
            "1001  0.184661  0.428571  0.222222   0.777778      0.0           1.0   1.0  \n",
            "687   0.237573  1.000000  0.055556   0.277778      0.0           0.0   1.0  \n",
            "\n",
            "[400 rows x 20 columns]\n"
          ]
        }
      ]
    },
    {
      "cell_type": "code",
      "source": [
        "print(y_train)"
      ],
      "metadata": {
        "colab": {
          "base_uri": "https://localhost:8080/"
        },
        "id": "e9RokJQjl-_i",
        "outputId": "f9096bb5-3c7e-4fc1-c96c-0c46e2ae8cb8"
      },
      "execution_count": 9,
      "outputs": [
        {
          "output_type": "stream",
          "name": "stdout",
          "text": [
            "1260    0\n",
            "916     0\n",
            "532     3\n",
            "1159    0\n",
            "1584    0\n",
            "       ..\n",
            "1879    1\n",
            "1895    1\n",
            "1859    0\n",
            "792     2\n",
            "1544    2\n",
            "Name: price_range, Length: 1600, dtype: int64\n"
          ]
        }
      ]
    },
    {
      "cell_type": "code",
      "source": [
        "print(y_test)"
      ],
      "metadata": {
        "colab": {
          "base_uri": "https://localhost:8080/"
        },
        "id": "2S-HOO7lmCY8",
        "outputId": "e0e1edb7-a1fe-4474-9c12-8bf1baeed11a"
      },
      "execution_count": 10,
      "outputs": [
        {
          "output_type": "stream",
          "name": "stdout",
          "text": [
            "1025    0\n",
            "1208    1\n",
            "1055    1\n",
            "367     3\n",
            "815     2\n",
            "       ..\n",
            "807     3\n",
            "711     1\n",
            "1541    3\n",
            "1001    0\n",
            "687     0\n",
            "Name: price_range, Length: 400, dtype: int64\n"
          ]
        }
      ]
    },
    {
      "cell_type": "code",
      "source": [
        "print(x.isnull())"
      ],
      "metadata": {
        "colab": {
          "base_uri": "https://localhost:8080/"
        },
        "id": "14hn-81JmFgU",
        "outputId": "390df811-2f78-4404-c8a0-27c7ac533b83"
      },
      "execution_count": 11,
      "outputs": [
        {
          "output_type": "stream",
          "name": "stdout",
          "text": [
            "      battery_power   blue  clock_speed  dual_sim     fc  four_g  int_memory  \\\n",
            "0             False  False        False     False  False   False       False   \n",
            "1             False  False        False     False  False   False       False   \n",
            "2             False  False        False     False  False   False       False   \n",
            "3             False  False        False     False  False   False       False   \n",
            "4             False  False        False     False  False   False       False   \n",
            "...             ...    ...          ...       ...    ...     ...         ...   \n",
            "1995          False  False        False     False  False   False       False   \n",
            "1996          False  False        False     False  False   False       False   \n",
            "1997          False  False        False     False  False   False       False   \n",
            "1998          False  False        False     False  False   False       False   \n",
            "1999          False  False        False     False  False   False       False   \n",
            "\n",
            "      m_dep  mobile_wt  n_cores     pc  px_height  px_width    ram   sc_h  \\\n",
            "0     False      False    False  False      False     False  False  False   \n",
            "1     False      False    False  False      False     False  False  False   \n",
            "2     False      False    False  False      False     False  False  False   \n",
            "3     False      False    False  False      False     False  False  False   \n",
            "4     False      False    False  False      False     False  False  False   \n",
            "...     ...        ...      ...    ...        ...       ...    ...    ...   \n",
            "1995  False      False    False  False      False     False  False  False   \n",
            "1996  False      False    False  False      False     False  False  False   \n",
            "1997  False      False    False  False      False     False  False  False   \n",
            "1998  False      False    False  False      False     False  False  False   \n",
            "1999  False      False    False  False      False     False  False  False   \n",
            "\n",
            "       sc_w  talk_time  three_g  touch_screen   wifi  \n",
            "0     False      False    False         False  False  \n",
            "1     False      False    False         False  False  \n",
            "2     False      False    False         False  False  \n",
            "3     False      False    False         False  False  \n",
            "4     False      False    False         False  False  \n",
            "...     ...        ...      ...           ...    ...  \n",
            "1995  False      False    False         False  False  \n",
            "1996  False      False    False         False  False  \n",
            "1997  False      False    False         False  False  \n",
            "1998  False      False    False         False  False  \n",
            "1999  False      False    False         False  False  \n",
            "\n",
            "[2000 rows x 20 columns]\n"
          ]
        }
      ]
    },
    {
      "cell_type": "code",
      "source": [
        "print(d.dtypes)"
      ],
      "metadata": {
        "colab": {
          "base_uri": "https://localhost:8080/"
        },
        "id": "MTBYvwPSmIqF",
        "outputId": "b8defad6-7a56-49d7-9689-13aa4b7b29cd"
      },
      "execution_count": 12,
      "outputs": [
        {
          "output_type": "stream",
          "name": "stdout",
          "text": [
            "battery_power      int64\n",
            "blue               int64\n",
            "clock_speed      float64\n",
            "dual_sim           int64\n",
            "fc                 int64\n",
            "four_g             int64\n",
            "int_memory         int64\n",
            "m_dep            float64\n",
            "mobile_wt          int64\n",
            "n_cores            int64\n",
            "pc                 int64\n",
            "px_height          int64\n",
            "px_width           int64\n",
            "ram                int64\n",
            "sc_h               int64\n",
            "sc_w               int64\n",
            "talk_time          int64\n",
            "three_g            int64\n",
            "touch_screen       int64\n",
            "wifi               int64\n",
            "price_range        int64\n",
            "dtype: object\n"
          ]
        }
      ]
    },
    {
      "cell_type": "code",
      "source": [
        "#Question 2\n",
        "#1.Read the data with pandas and describe the data\n",
        "import pandas as pd\n",
        "d=pd.read_csv(\"/content/sample_data/california_housing_train.csv\")\n",
        "print(d)\n",
        "print(d.describe)"
      ],
      "metadata": {
        "colab": {
          "base_uri": "https://localhost:8080/"
        },
        "id": "dhEXT8l1mMMP",
        "outputId": "d720f04d-513b-432b-d0b1-65c08626c468"
      },
      "execution_count": 13,
      "outputs": [
        {
          "output_type": "stream",
          "name": "stdout",
          "text": [
            "       longitude  latitude  housing_median_age  total_rooms  total_bedrooms  \\\n",
            "0        -114.31     34.19                15.0       5612.0          1283.0   \n",
            "1        -114.47     34.40                19.0       7650.0          1901.0   \n",
            "2        -114.56     33.69                17.0        720.0           174.0   \n",
            "3        -114.57     33.64                14.0       1501.0           337.0   \n",
            "4        -114.57     33.57                20.0       1454.0           326.0   \n",
            "...          ...       ...                 ...          ...             ...   \n",
            "16995    -124.26     40.58                52.0       2217.0           394.0   \n",
            "16996    -124.27     40.69                36.0       2349.0           528.0   \n",
            "16997    -124.30     41.84                17.0       2677.0           531.0   \n",
            "16998    -124.30     41.80                19.0       2672.0           552.0   \n",
            "16999    -124.35     40.54                52.0       1820.0           300.0   \n",
            "\n",
            "       population  households  median_income  median_house_value  \n",
            "0          1015.0       472.0         1.4936             66900.0  \n",
            "1          1129.0       463.0         1.8200             80100.0  \n",
            "2           333.0       117.0         1.6509             85700.0  \n",
            "3           515.0       226.0         3.1917             73400.0  \n",
            "4           624.0       262.0         1.9250             65500.0  \n",
            "...           ...         ...            ...                 ...  \n",
            "16995       907.0       369.0         2.3571            111400.0  \n",
            "16996      1194.0       465.0         2.5179             79000.0  \n",
            "16997      1244.0       456.0         3.0313            103600.0  \n",
            "16998      1298.0       478.0         1.9797             85800.0  \n",
            "16999       806.0       270.0         3.0147             94600.0  \n",
            "\n",
            "[17000 rows x 9 columns]\n",
            "<bound method NDFrame.describe of        longitude  latitude  housing_median_age  total_rooms  total_bedrooms  \\\n",
            "0        -114.31     34.19                15.0       5612.0          1283.0   \n",
            "1        -114.47     34.40                19.0       7650.0          1901.0   \n",
            "2        -114.56     33.69                17.0        720.0           174.0   \n",
            "3        -114.57     33.64                14.0       1501.0           337.0   \n",
            "4        -114.57     33.57                20.0       1454.0           326.0   \n",
            "...          ...       ...                 ...          ...             ...   \n",
            "16995    -124.26     40.58                52.0       2217.0           394.0   \n",
            "16996    -124.27     40.69                36.0       2349.0           528.0   \n",
            "16997    -124.30     41.84                17.0       2677.0           531.0   \n",
            "16998    -124.30     41.80                19.0       2672.0           552.0   \n",
            "16999    -124.35     40.54                52.0       1820.0           300.0   \n",
            "\n",
            "       population  households  median_income  median_house_value  \n",
            "0          1015.0       472.0         1.4936             66900.0  \n",
            "1          1129.0       463.0         1.8200             80100.0  \n",
            "2           333.0       117.0         1.6509             85700.0  \n",
            "3           515.0       226.0         3.1917             73400.0  \n",
            "4           624.0       262.0         1.9250             65500.0  \n",
            "...           ...         ...            ...                 ...  \n",
            "16995       907.0       369.0         2.3571            111400.0  \n",
            "16996      1194.0       465.0         2.5179             79000.0  \n",
            "16997      1244.0       456.0         3.0313            103600.0  \n",
            "16998      1298.0       478.0         1.9797             85800.0  \n",
            "16999       806.0       270.0         3.0147             94600.0  \n",
            "\n",
            "[17000 rows x 9 columns]>\n"
          ]
        }
      ]
    },
    {
      "cell_type": "code",
      "source": [
        "#Find data type and shape of each column\n",
        "print(d.dtypes)\n",
        "print(d.shape)"
      ],
      "metadata": {
        "colab": {
          "base_uri": "https://localhost:8080/"
        },
        "id": "jx3iFwlcmP5T",
        "outputId": "fc7f2073-8666-4954-fa4a-c90ece702427"
      },
      "execution_count": 14,
      "outputs": [
        {
          "output_type": "stream",
          "name": "stdout",
          "text": [
            "longitude             float64\n",
            "latitude              float64\n",
            "housing_median_age    float64\n",
            "total_rooms           float64\n",
            "total_bedrooms        float64\n",
            "population            float64\n",
            "households            float64\n",
            "median_income         float64\n",
            "median_house_value    float64\n",
            "dtype: object\n",
            "(17000, 9)\n"
          ]
        }
      ]
    },
    {
      "cell_type": "code",
      "source": [
        "#Find the target and features\n",
        "x=d.drop('median_house_value',axis=1)\n",
        "y=d['median_house_value']\n",
        "print(x)\n",
        "print(y)"
      ],
      "metadata": {
        "colab": {
          "base_uri": "https://localhost:8080/"
        },
        "id": "AmhCe1o7mUP3",
        "outputId": "ded8b043-634e-402d-ec9f-23410e7601d6"
      },
      "execution_count": 15,
      "outputs": [
        {
          "output_type": "stream",
          "name": "stdout",
          "text": [
            "       longitude  latitude  housing_median_age  total_rooms  total_bedrooms  \\\n",
            "0        -114.31     34.19                15.0       5612.0          1283.0   \n",
            "1        -114.47     34.40                19.0       7650.0          1901.0   \n",
            "2        -114.56     33.69                17.0        720.0           174.0   \n",
            "3        -114.57     33.64                14.0       1501.0           337.0   \n",
            "4        -114.57     33.57                20.0       1454.0           326.0   \n",
            "...          ...       ...                 ...          ...             ...   \n",
            "16995    -124.26     40.58                52.0       2217.0           394.0   \n",
            "16996    -124.27     40.69                36.0       2349.0           528.0   \n",
            "16997    -124.30     41.84                17.0       2677.0           531.0   \n",
            "16998    -124.30     41.80                19.0       2672.0           552.0   \n",
            "16999    -124.35     40.54                52.0       1820.0           300.0   \n",
            "\n",
            "       population  households  median_income  \n",
            "0          1015.0       472.0         1.4936  \n",
            "1          1129.0       463.0         1.8200  \n",
            "2           333.0       117.0         1.6509  \n",
            "3           515.0       226.0         3.1917  \n",
            "4           624.0       262.0         1.9250  \n",
            "...           ...         ...            ...  \n",
            "16995       907.0       369.0         2.3571  \n",
            "16996      1194.0       465.0         2.5179  \n",
            "16997      1244.0       456.0         3.0313  \n",
            "16998      1298.0       478.0         1.9797  \n",
            "16999       806.0       270.0         3.0147  \n",
            "\n",
            "[17000 rows x 8 columns]\n",
            "0         66900.0\n",
            "1         80100.0\n",
            "2         85700.0\n",
            "3         73400.0\n",
            "4         65500.0\n",
            "           ...   \n",
            "16995    111400.0\n",
            "16996     79000.0\n",
            "16997    103600.0\n",
            "16998     85800.0\n",
            "16999     94600.0\n",
            "Name: median_house_value, Length: 17000, dtype: float64\n"
          ]
        }
      ]
    },
    {
      "cell_type": "code",
      "source": [
        "\n",
        "#Find the null values (if yes fill the null values with ‘0’ or mean ofthat␣↪column)\n",
        "print(d.isnull())"
      ],
      "metadata": {
        "colab": {
          "base_uri": "https://localhost:8080/"
        },
        "id": "uOepOo3umX8-",
        "outputId": "da2ce5c6-4336-4c9b-f588-7354f0589355"
      },
      "execution_count": 16,
      "outputs": [
        {
          "output_type": "stream",
          "name": "stdout",
          "text": [
            "       longitude  latitude  housing_median_age  total_rooms  total_bedrooms  \\\n",
            "0          False     False               False        False           False   \n",
            "1          False     False               False        False           False   \n",
            "2          False     False               False        False           False   \n",
            "3          False     False               False        False           False   \n",
            "4          False     False               False        False           False   \n",
            "...          ...       ...                 ...          ...             ...   \n",
            "16995      False     False               False        False           False   \n",
            "16996      False     False               False        False           False   \n",
            "16997      False     False               False        False           False   \n",
            "16998      False     False               False        False           False   \n",
            "16999      False     False               False        False           False   \n",
            "\n",
            "       population  households  median_income  median_house_value  \n",
            "0           False       False          False               False  \n",
            "1           False       False          False               False  \n",
            "2           False       False          False               False  \n",
            "3           False       False          False               False  \n",
            "4           False       False          False               False  \n",
            "...           ...         ...            ...                 ...  \n",
            "16995       False       False          False               False  \n",
            "16996       False       False          False               False  \n",
            "16997       False       False          False               False  \n",
            "16998       False       False          False               False  \n",
            "16999       False       False          False               False  \n",
            "\n",
            "[17000 rows x 9 columns]\n"
          ]
        }
      ]
    },
    {
      "cell_type": "code",
      "source": [
        "#Normalize all the features\n",
        "dd=(x-x.min())/(x.max()-x.min())\n",
        "print(dd)\n",
        ""
      ],
      "metadata": {
        "colab": {
          "base_uri": "https://localhost:8080/"
        },
        "id": "9GYCEalNmcDk",
        "outputId": "92527be3-c838-419c-831e-9ca9c77b0c32"
      },
      "execution_count": 17,
      "outputs": [
        {
          "output_type": "stream",
          "name": "stdout",
          "text": [
            "       longitude  latitude  housing_median_age  total_rooms  total_bedrooms  \\\n",
            "0       1.000000  0.175345            0.274510     0.147885        0.198945   \n",
            "1       0.984064  0.197662            0.352941     0.201608        0.294848   \n",
            "2       0.975100  0.122210            0.313725     0.018927        0.026847   \n",
            "3       0.974104  0.116897            0.254902     0.039515        0.052142   \n",
            "4       0.974104  0.109458            0.372549     0.038276        0.050435   \n",
            "...          ...       ...                 ...          ...             ...   \n",
            "16995   0.008964  0.854410            1.000000     0.058389        0.060987   \n",
            "16996   0.007968  0.866100            0.686275     0.061869        0.081782   \n",
            "16997   0.004980  0.988310            0.313725     0.070515        0.082247   \n",
            "16998   0.004980  0.984060            0.352941     0.070384        0.085506   \n",
            "16999   0.000000  0.850159            1.000000     0.047924        0.046400   \n",
            "\n",
            "       population  households  median_income  \n",
            "0        0.028364    0.077454       0.068530  \n",
            "1        0.031559    0.075974       0.091040  \n",
            "2        0.009249    0.019076       0.079378  \n",
            "3        0.014350    0.037000       0.185639  \n",
            "4        0.017405    0.042921       0.098281  \n",
            "...           ...         ...            ...  \n",
            "16995    0.025337    0.060516       0.128081  \n",
            "16996    0.033381    0.076303       0.139170  \n",
            "16997    0.034782    0.074823       0.174577  \n",
            "16998    0.036296    0.078441       0.102054  \n",
            "16999    0.022506    0.044236       0.173432  \n",
            "\n",
            "[17000 rows x 8 columns]\n"
          ]
        }
      ]
    },
    {
      "cell_type": "code",
      "source": [
        "#Split the data into train and test.\n",
        "from sklearn.model_selection import train_test_split\n",
        "x_train,x_test,y_train,y_test=train_test_split(dd,y,test_size=0.2,random_state=100)\n",
        "print(x_train)"
      ],
      "metadata": {
        "colab": {
          "base_uri": "https://localhost:8080/"
        },
        "id": "D7SGYXUTmfJS",
        "outputId": "7c20510e-4634-49e6-bb5c-a1096ad7d775"
      },
      "execution_count": 18,
      "outputs": [
        {
          "output_type": "stream",
          "name": "stdout",
          "text": [
            "       longitude  latitude  housing_median_age  total_rooms  total_bedrooms  \\\n",
            "14730   0.215139  0.555792            0.862745     0.048768        0.060832   \n",
            "9389    0.511952  0.408077            0.333333     0.056834        0.063935   \n",
            "7662    0.595618  0.144527            0.607843     0.008699        0.015829   \n",
            "9146    0.530876  0.297556            0.666667     0.043443        0.060366   \n",
            "13485   0.238048  0.616366            0.254902     0.079953        0.105369   \n",
            "...          ...       ...                 ...          ...             ...   \n",
            "16304   0.184263  0.571732            0.607843     0.069514        0.064246   \n",
            "79      0.875498  0.027630            0.274510     0.030816        0.050745   \n",
            "12119   0.289841  0.647184            0.627451     0.028338        0.041899   \n",
            "14147   0.227092  0.548353            0.745098     0.037380        0.042055   \n",
            "5640    0.614542  0.153029            0.764706     0.044708        0.066729   \n",
            "\n",
            "       population  households  median_income  \n",
            "14730    0.031643    0.057227       0.152825  \n",
            "9389     0.040864    0.064792       0.104943  \n",
            "7662     0.004877    0.016609       0.195928  \n",
            "9146     0.032008    0.056241       0.071433  \n",
            "13485    0.044676    0.108864       0.214045  \n",
            "...           ...         ...            ...  \n",
            "16304    0.028308    0.066930       0.390567  \n",
            "79       0.028616    0.048841       0.061261  \n",
            "12119    0.021021    0.038645       0.058365  \n",
            "14147    0.017994    0.045387       0.250003  \n",
            "5640     0.035791    0.066436       0.146557  \n",
            "\n",
            "[13600 rows x 8 columns]\n"
          ]
        }
      ]
    },
    {
      "cell_type": "code",
      "source": [
        "print(x_test)"
      ],
      "metadata": {
        "colab": {
          "base_uri": "https://localhost:8080/"
        },
        "id": "I69hmKrSmiOF",
        "outputId": "d968b997-7740-42eb-d106-c36c55d7652e"
      },
      "execution_count": 19,
      "outputs": [
        {
          "output_type": "stream",
          "name": "stdout",
          "text": [
            "       longitude  latitude  housing_median_age  total_rooms  total_bedrooms  \\\n",
            "1559    0.710159  0.141339            0.294118     0.001423        0.000931   \n",
            "5775    0.613546  0.143464            0.725490     0.105865        0.152855   \n",
            "10247   0.436255  0.679065            0.450980     0.022512        0.028554   \n",
            "5234    0.618526  0.175345            0.862745     0.094715        0.095903   \n",
            "1416    0.714143  0.027630            0.568627     0.064690        0.060366   \n",
            "...          ...       ...                 ...          ...             ...   \n",
            "9213    0.526892  0.375133            0.372549     0.070674        0.085661   \n",
            "15348   0.205179  0.568544            1.000000     0.083538        0.108163   \n",
            "14256   0.225100  0.700319            0.529412     0.109846        0.138734   \n",
            "5688    0.614542  0.131775            0.372549     0.048768        0.086127   \n",
            "6548    0.604582  0.181722            0.549020     0.067405        0.121974   \n",
            "\n",
            "       population  households  median_income  \n",
            "1559     0.001009    0.002138       0.146557  \n",
            "5775     0.103674    0.152278       0.167543  \n",
            "10247    0.010791    0.017596       0.184873  \n",
            "5234     0.047171    0.099655       0.291727  \n",
            "1416     0.028560    0.064463       0.231328  \n",
            "...           ...         ...            ...  \n",
            "9213     0.041873    0.089952       0.082978  \n",
            "15348    0.041901    0.114290       0.184797  \n",
            "14256    0.072424    0.133037       0.126281  \n",
            "5688     0.047899    0.091268       0.065972  \n",
            "6548     0.052776    0.126295       0.145081  \n",
            "\n",
            "[3400 rows x 8 columns]\n"
          ]
        }
      ]
    },
    {
      "cell_type": "code",
      "source": [
        "print(y_train)\n",
        ""
      ],
      "metadata": {
        "colab": {
          "base_uri": "https://localhost:8080/"
        },
        "id": "yCgdh8kUmlTM",
        "outputId": "1f0510cc-3a1c-4f71-93fd-71a7321f2ed5"
      },
      "execution_count": 20,
      "outputs": [
        {
          "output_type": "stream",
          "name": "stdout",
          "text": [
            "14730    101400.0\n",
            "9389      58000.0\n",
            "7662     256300.0\n",
            "9146      56500.0\n",
            "13485    143500.0\n",
            "           ...   \n",
            "16304    349200.0\n",
            "79        69400.0\n",
            "12119     55900.0\n",
            "14147    232500.0\n",
            "5640     206300.0\n",
            "Name: median_house_value, Length: 13600, dtype: float64\n"
          ]
        }
      ]
    },
    {
      "cell_type": "code",
      "source": [
        "print(y_test)"
      ],
      "metadata": {
        "colab": {
          "base_uri": "https://localhost:8080/"
        },
        "id": "9Rb1OgkgmpDv",
        "outputId": "f9fb2a03-8b1a-47c9-82af-40ddad6cc694"
      },
      "execution_count": 21,
      "outputs": [
        {
          "output_type": "stream",
          "name": "stdout",
          "text": [
            "1559     500001.0\n",
            "5775     113600.0\n",
            "10247    107200.0\n",
            "5234     201000.0\n",
            "1416     198500.0\n",
            "           ...   \n",
            "9213      64600.0\n",
            "15348    218200.0\n",
            "14256     65500.0\n",
            "5688     152500.0\n",
            "6548     162100.0\n",
            "Name: median_house_value, Length: 3400, dtype: float64\n"
          ]
        }
      ]
    },
    {
      "cell_type": "code",
      "source": [],
      "metadata": {
        "id": "D6dIhfoVmsFY"
      },
      "execution_count": null,
      "outputs": []
    }
  ]
}